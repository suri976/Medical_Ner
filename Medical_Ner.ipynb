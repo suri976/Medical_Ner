{
  "cells": [
    {
      "cell_type": "code",
      "execution_count": null,
      "metadata": {
        "id": "9UhRy8T2-9YC"
      },
      "outputs": [],
      "source": [
        "import spacy"
      ]
    },
    {
      "cell_type": "code",
      "execution_count": null,
      "metadata": {
        "colab": {
          "base_uri": "https://localhost:8080/"
        },
        "id": "LSQyWgBj_J1f",
        "outputId": "628b0908-492a-4511-bdf0-3c5e40c2c47e"
      },
      "outputs": [
        {
          "output_type": "stream",
          "name": "stdout",
          "text": [
            "2023-10-30 12:28:31.339275: E tensorflow/compiler/xla/stream_executor/cuda/cuda_dnn.cc:9342] Unable to register cuDNN factory: Attempting to register factory for plugin cuDNN when one has already been registered\n",
            "2023-10-30 12:28:31.339386: E tensorflow/compiler/xla/stream_executor/cuda/cuda_fft.cc:609] Unable to register cuFFT factory: Attempting to register factory for plugin cuFFT when one has already been registered\n",
            "2023-10-30 12:28:31.339484: E tensorflow/compiler/xla/stream_executor/cuda/cuda_blas.cc:1518] Unable to register cuBLAS factory: Attempting to register factory for plugin cuBLAS when one has already been registered\n",
            "2023-10-30 12:28:33.050785: W tensorflow/compiler/tf2tensorrt/utils/py_utils.cc:38] TF-TRT Warning: Could not find TensorRT\n",
            "Collecting en-core-web-lg==3.6.0\n",
            "  Downloading https://github.com/explosion/spacy-models/releases/download/en_core_web_lg-3.6.0/en_core_web_lg-3.6.0-py3-none-any.whl (587.7 MB)\n",
            "\u001b[2K     \u001b[90m━━━━━━━━━━━━━━━━━━━━━━━━━━━━━━━━━━━━━━━━\u001b[0m \u001b[32m587.7/587.7 MB\u001b[0m \u001b[31m1.8 MB/s\u001b[0m eta \u001b[36m0:00:00\u001b[0m\n",
            "\u001b[?25hRequirement already satisfied: spacy<3.7.0,>=3.6.0 in /usr/local/lib/python3.10/dist-packages (from en-core-web-lg==3.6.0) (3.6.1)\n",
            "Requirement already satisfied: spacy-legacy<3.1.0,>=3.0.11 in /usr/local/lib/python3.10/dist-packages (from spacy<3.7.0,>=3.6.0->en-core-web-lg==3.6.0) (3.0.12)\n",
            "Requirement already satisfied: spacy-loggers<2.0.0,>=1.0.0 in /usr/local/lib/python3.10/dist-packages (from spacy<3.7.0,>=3.6.0->en-core-web-lg==3.6.0) (1.0.5)\n",
            "Requirement already satisfied: murmurhash<1.1.0,>=0.28.0 in /usr/local/lib/python3.10/dist-packages (from spacy<3.7.0,>=3.6.0->en-core-web-lg==3.6.0) (1.0.10)\n",
            "Requirement already satisfied: cymem<2.1.0,>=2.0.2 in /usr/local/lib/python3.10/dist-packages (from spacy<3.7.0,>=3.6.0->en-core-web-lg==3.6.0) (2.0.8)\n",
            "Requirement already satisfied: preshed<3.1.0,>=3.0.2 in /usr/local/lib/python3.10/dist-packages (from spacy<3.7.0,>=3.6.0->en-core-web-lg==3.6.0) (3.0.9)\n",
            "Requirement already satisfied: thinc<8.2.0,>=8.1.8 in /usr/local/lib/python3.10/dist-packages (from spacy<3.7.0,>=3.6.0->en-core-web-lg==3.6.0) (8.1.12)\n",
            "Requirement already satisfied: wasabi<1.2.0,>=0.9.1 in /usr/local/lib/python3.10/dist-packages (from spacy<3.7.0,>=3.6.0->en-core-web-lg==3.6.0) (1.1.2)\n",
            "Requirement already satisfied: srsly<3.0.0,>=2.4.3 in /usr/local/lib/python3.10/dist-packages (from spacy<3.7.0,>=3.6.0->en-core-web-lg==3.6.0) (2.4.8)\n",
            "Requirement already satisfied: catalogue<2.1.0,>=2.0.6 in /usr/local/lib/python3.10/dist-packages (from spacy<3.7.0,>=3.6.0->en-core-web-lg==3.6.0) (2.0.10)\n",
            "Requirement already satisfied: typer<0.10.0,>=0.3.0 in /usr/local/lib/python3.10/dist-packages (from spacy<3.7.0,>=3.6.0->en-core-web-lg==3.6.0) (0.9.0)\n",
            "Requirement already satisfied: pathy>=0.10.0 in /usr/local/lib/python3.10/dist-packages (from spacy<3.7.0,>=3.6.0->en-core-web-lg==3.6.0) (0.10.3)\n",
            "Requirement already satisfied: smart-open<7.0.0,>=5.2.1 in /usr/local/lib/python3.10/dist-packages (from spacy<3.7.0,>=3.6.0->en-core-web-lg==3.6.0) (6.4.0)\n",
            "Requirement already satisfied: tqdm<5.0.0,>=4.38.0 in /usr/local/lib/python3.10/dist-packages (from spacy<3.7.0,>=3.6.0->en-core-web-lg==3.6.0) (4.66.1)\n",
            "Requirement already satisfied: numpy>=1.15.0 in /usr/local/lib/python3.10/dist-packages (from spacy<3.7.0,>=3.6.0->en-core-web-lg==3.6.0) (1.23.5)\n",
            "Requirement already satisfied: requests<3.0.0,>=2.13.0 in /usr/local/lib/python3.10/dist-packages (from spacy<3.7.0,>=3.6.0->en-core-web-lg==3.6.0) (2.31.0)\n",
            "Requirement already satisfied: pydantic!=1.8,!=1.8.1,<3.0.0,>=1.7.4 in /usr/local/lib/python3.10/dist-packages (from spacy<3.7.0,>=3.6.0->en-core-web-lg==3.6.0) (1.10.13)\n",
            "Requirement already satisfied: jinja2 in /usr/local/lib/python3.10/dist-packages (from spacy<3.7.0,>=3.6.0->en-core-web-lg==3.6.0) (3.1.2)\n",
            "Requirement already satisfied: setuptools in /usr/local/lib/python3.10/dist-packages (from spacy<3.7.0,>=3.6.0->en-core-web-lg==3.6.0) (67.7.2)\n",
            "Requirement already satisfied: packaging>=20.0 in /usr/local/lib/python3.10/dist-packages (from spacy<3.7.0,>=3.6.0->en-core-web-lg==3.6.0) (23.2)\n",
            "Requirement already satisfied: langcodes<4.0.0,>=3.2.0 in /usr/local/lib/python3.10/dist-packages (from spacy<3.7.0,>=3.6.0->en-core-web-lg==3.6.0) (3.3.0)\n",
            "Requirement already satisfied: typing-extensions>=4.2.0 in /usr/local/lib/python3.10/dist-packages (from pydantic!=1.8,!=1.8.1,<3.0.0,>=1.7.4->spacy<3.7.0,>=3.6.0->en-core-web-lg==3.6.0) (4.5.0)\n",
            "Requirement already satisfied: charset-normalizer<4,>=2 in /usr/local/lib/python3.10/dist-packages (from requests<3.0.0,>=2.13.0->spacy<3.7.0,>=3.6.0->en-core-web-lg==3.6.0) (3.3.1)\n",
            "Requirement already satisfied: idna<4,>=2.5 in /usr/local/lib/python3.10/dist-packages (from requests<3.0.0,>=2.13.0->spacy<3.7.0,>=3.6.0->en-core-web-lg==3.6.0) (3.4)\n",
            "Requirement already satisfied: urllib3<3,>=1.21.1 in /usr/local/lib/python3.10/dist-packages (from requests<3.0.0,>=2.13.0->spacy<3.7.0,>=3.6.0->en-core-web-lg==3.6.0) (2.0.7)\n",
            "Requirement already satisfied: certifi>=2017.4.17 in /usr/local/lib/python3.10/dist-packages (from requests<3.0.0,>=2.13.0->spacy<3.7.0,>=3.6.0->en-core-web-lg==3.6.0) (2023.7.22)\n",
            "Requirement already satisfied: blis<0.8.0,>=0.7.8 in /usr/local/lib/python3.10/dist-packages (from thinc<8.2.0,>=8.1.8->spacy<3.7.0,>=3.6.0->en-core-web-lg==3.6.0) (0.7.11)\n",
            "Requirement already satisfied: confection<1.0.0,>=0.0.1 in /usr/local/lib/python3.10/dist-packages (from thinc<8.2.0,>=8.1.8->spacy<3.7.0,>=3.6.0->en-core-web-lg==3.6.0) (0.1.3)\n",
            "Requirement already satisfied: click<9.0.0,>=7.1.1 in /usr/local/lib/python3.10/dist-packages (from typer<0.10.0,>=0.3.0->spacy<3.7.0,>=3.6.0->en-core-web-lg==3.6.0) (8.1.7)\n",
            "Requirement already satisfied: MarkupSafe>=2.0 in /usr/local/lib/python3.10/dist-packages (from jinja2->spacy<3.7.0,>=3.6.0->en-core-web-lg==3.6.0) (2.1.3)\n",
            "\u001b[38;5;2m✔ Download and installation successful\u001b[0m\n",
            "You can now load the package via spacy.load('en_core_web_lg')\n"
          ]
        }
      ],
      "source": [
        "# !python -m spacy download en_core_web_sm\n",
        "!python -m spacy download en_core_web_lg"
      ]
    },
    {
      "cell_type": "code",
      "execution_count": null,
      "metadata": {
        "colab": {
          "base_uri": "https://localhost:8080/"
        },
        "id": "nGwW5lrU_M4_",
        "outputId": "e023869c-9b06-4065-d32f-55d80706db37"
      },
      "outputs": [
        {
          "output_type": "execute_result",
          "data": {
            "text/plain": [
              "<spacy.lang.en.English at 0x7a0757c5fa30>"
            ]
          },
          "metadata": {},
          "execution_count": 30
        }
      ],
      "source": [
        "nlp = spacy.load(\"en_core_web_lg\")\n",
        "nlp"
      ]
    },
    {
      "cell_type": "code",
      "execution_count": null,
      "metadata": {
        "id": "26YJpHG__QlN"
      },
      "outputs": [],
      "source": [
        "doc = nlp(\"Donad Trump was President of USA\")"
      ]
    },
    {
      "cell_type": "code",
      "execution_count": null,
      "metadata": {
        "colab": {
          "base_uri": "https://localhost:8080/"
        },
        "id": "ydMgwhiU_Tco",
        "outputId": "99fb82b0-18eb-4549-d0c6-5982711d2a0a"
      },
      "outputs": [
        {
          "output_type": "execute_result",
          "data": {
            "text/plain": [
              "Donad Trump was President of USA"
            ]
          },
          "metadata": {},
          "execution_count": 32
        }
      ],
      "source": [
        "doc"
      ]
    },
    {
      "cell_type": "code",
      "execution_count": null,
      "metadata": {
        "colab": {
          "base_uri": "https://localhost:8080/"
        },
        "id": "oJc2XJML_T7b",
        "outputId": "cf6412ba-9a8a-482a-c7ff-eb0b2164800f"
      },
      "outputs": [
        {
          "output_type": "execute_result",
          "data": {
            "text/plain": [
              "spacy.tokens.doc.Doc"
            ]
          },
          "metadata": {},
          "execution_count": 33
        }
      ],
      "source": [
        "type(doc)"
      ]
    },
    {
      "cell_type": "code",
      "execution_count": null,
      "metadata": {
        "colab": {
          "base_uri": "https://localhost:8080/"
        },
        "id": "Ebr-4jPh_dt8",
        "outputId": "d7b5d9f1-8037-4306-87de-853305c086c5"
      },
      "outputs": [
        {
          "output_type": "execute_result",
          "data": {
            "text/plain": [
              "(Donad Trump, USA)"
            ]
          },
          "metadata": {},
          "execution_count": 34
        }
      ],
      "source": [
        "doc.ents"
      ]
    },
    {
      "cell_type": "code",
      "execution_count": null,
      "metadata": {
        "colab": {
          "base_uri": "https://localhost:8080/"
        },
        "id": "zGO8ku0T_gFK",
        "outputId": "91f1e85d-06a8-4ac2-88eb-bd6e55cfa571"
      },
      "outputs": [
        {
          "output_type": "execute_result",
          "data": {
            "text/plain": [
              "(Donad Trump, spacy.tokens.span.Span)"
            ]
          },
          "metadata": {},
          "execution_count": 35
        }
      ],
      "source": [
        "doc.ents[0], type(doc.ents[0])"
      ]
    },
    {
      "cell_type": "code",
      "execution_count": null,
      "metadata": {
        "colab": {
          "base_uri": "https://localhost:8080/",
          "height": 52
        },
        "id": "ZIoIulfF_m4R",
        "outputId": "32565de2-a43f-43fc-9450-6d96ab1802de"
      },
      "outputs": [
        {
          "output_type": "display_data",
          "data": {
            "text/plain": [
              "<IPython.core.display.HTML object>"
            ],
            "text/html": [
              "<span class=\"tex2jax_ignore\"><div class=\"entities\" style=\"line-height: 2.5; direction: ltr\">\n",
              "<mark class=\"entity\" style=\"background: #aa9cfc; padding: 0.45em 0.6em; margin: 0 0.25em; line-height: 1; border-radius: 0.35em;\">\n",
              "    Donad Trump\n",
              "    <span style=\"font-size: 0.8em; font-weight: bold; line-height: 1; border-radius: 0.35em; vertical-align: middle; margin-left: 0.5rem\">PERSON</span>\n",
              "</mark>\n",
              " was President of \n",
              "<mark class=\"entity\" style=\"background: #feca74; padding: 0.45em 0.6em; margin: 0 0.25em; line-height: 1; border-radius: 0.35em;\">\n",
              "    USA\n",
              "    <span style=\"font-size: 0.8em; font-weight: bold; line-height: 1; border-radius: 0.35em; vertical-align: middle; margin-left: 0.5rem\">GPE</span>\n",
              "</mark>\n",
              "</div></span>"
            ]
          },
          "metadata": {}
        }
      ],
      "source": [
        "from spacy import displacy\n",
        "displacy.render(doc, style=\"ent\", jupyter=True)"
      ]
    },
    {
      "cell_type": "code",
      "source": [
        "from google.colab import drive\n",
        "drive.mount('/content/drive')"
      ],
      "metadata": {
        "colab": {
          "base_uri": "https://localhost:8080/"
        },
        "id": "J_2Zh8H8U2Rg",
        "outputId": "8a5f73f2-0d8f-4ac6-b8e3-a5c6e236b3a1"
      },
      "execution_count": null,
      "outputs": [
        {
          "output_type": "stream",
          "name": "stdout",
          "text": [
            "Drive already mounted at /content/drive; to attempt to forcibly remount, call drive.mount(\"/content/drive\", force_remount=True).\n"
          ]
        }
      ]
    },
    {
      "cell_type": "code",
      "execution_count": null,
      "metadata": {
        "id": "EVicFme7_sQI"
      },
      "outputs": [],
      "source": [
        "import json\n",
        "# https://www.kaggle.com/datasets/finalepoch/medical-ner\n",
        "with open('/content/drive/MyDrive/Medical_Ner/Corona2.json', 'r') as f:\n",
        "    data = json.load(f)"
      ]
    },
    {
      "cell_type": "code",
      "execution_count": null,
      "metadata": {
        "colab": {
          "base_uri": "https://localhost:8080/"
        },
        "id": "4bjT5ip3_2ns",
        "outputId": "5e19e2c2-b2d5-459c-e6e1-e172bc4b1285"
      },
      "outputs": [
        {
          "output_type": "execute_result",
          "data": {
            "text/plain": [
              "dict_keys(['id', 'content', 'metadata', 'annotations', 'classifications'])"
            ]
          },
          "metadata": {},
          "execution_count": 39
        }
      ],
      "source": [
        "data['examples'][0].keys()"
      ]
    },
    {
      "cell_type": "code",
      "execution_count": null,
      "metadata": {
        "colab": {
          "base_uri": "https://localhost:8080/"
        },
        "id": "paXPfw80_3Gy",
        "outputId": "14ec69e9-9545-497b-fa0c-a1d9f487689d"
      },
      "outputs": [
        {
          "output_type": "execute_result",
          "data": {
            "text/plain": [
              "5"
            ]
          },
          "metadata": {},
          "execution_count": 40
        }
      ],
      "source": [
        "len(data['examples'][30])"
      ]
    },
    {
      "cell_type": "code",
      "execution_count": null,
      "metadata": {
        "colab": {
          "base_uri": "https://localhost:8080/"
        },
        "id": "FRFJheccAPOB",
        "outputId": "92ea857b-3154-4522-bf66-055dbc38b98e"
      },
      "outputs": [
        {
          "output_type": "execute_result",
          "data": {
            "text/plain": [
              "{'id': '5738535b-64dc-446f-a3c8-e38f06069d76',\n",
              " 'content': 'Influenza, commonly known as \"the flu\", is an infectious disease caused by an influenza virus.[1] Symptoms can be mild to severe.[5] The most common symptoms include: high fever, runny nose, sore throat, muscle and joint pain, headache, coughing, and feeling tired.[1] These symptoms typically begin two days after exposure to the virus and most last less than a week.[1] The cough, however, may last for more than two weeks.[1] In children, there may be diarrhea and vomiting, but these are not common in adults.[6] Diarrhea and vomiting occur more commonly in gastroenteritis, which is an unrelated disease and sometimes inaccurately referred to as \"stomach flu\" or the \"24-hour flu\".[6] Complications of influenza may include viral pneumonia, secondary bacterial pneumonia, sinus infections, and worsening of previous health problems such as asthma or heart failure.[2][5]',\n",
              " 'metadata': {},\n",
              " 'annotations': [{'id': '05c61d36-74f6-498b-b0b4-86124f1ec11e',\n",
              "   'tag_id': '03eb3e50-d4d8-4261-a60b-fa5aee5deb4a',\n",
              "   'end': 202,\n",
              "   'start': 191,\n",
              "   'example_id': '5738535b-64dc-446f-a3c8-e38f06069d76',\n",
              "   'tag_name': 'MedicalCondition',\n",
              "   'value': 'sore throat',\n",
              "   'correct': None,\n",
              "   'human_annotations': [{'timestamp': '2020-03-17T18:59:47.028000Z',\n",
              "     'annotator_id': 1,\n",
              "     'tagged_token_id': '05c61d36-74f6-498b-b0b4-86124f1ec11e',\n",
              "     'name': 'Ashpat123',\n",
              "     'reason': 'exploration'}],\n",
              "   'model_annotations': []},\n",
              "  {'id': '0d951ef9-707a-43c7-a8a3-2f343592d73b',\n",
              "   'tag_id': '03eb3e50-d4d8-4261-a60b-fa5aee5deb4a',\n",
              "   'end': 9,\n",
              "   'start': 0,\n",
              "   'example_id': '5738535b-64dc-446f-a3c8-e38f06069d76',\n",
              "   'tag_name': 'MedicalCondition',\n",
              "   'value': 'Influenza',\n",
              "   'correct': None,\n",
              "   'human_annotations': [{'timestamp': '2020-03-17T18:59:24.511000Z',\n",
              "     'annotator_id': 1,\n",
              "     'tagged_token_id': '0d951ef9-707a-43c7-a8a3-2f343592d73b',\n",
              "     'name': 'Ashpat123',\n",
              "     'reason': 'exploration'}],\n",
              "   'model_annotations': []},\n",
              "  {'id': '0df2b6b6-b8f3-4799-86d2-22ff7604c0d4',\n",
              "   'tag_id': '03eb3e50-d4d8-4261-a60b-fa5aee5deb4a',\n",
              "   'end': 852,\n",
              "   'start': 845,\n",
              "   'example_id': '5738535b-64dc-446f-a3c8-e38f06069d76',\n",
              "   'tag_name': 'MedicalCondition',\n",
              "   'value': 'asthma ',\n",
              "   'correct': None,\n",
              "   'human_annotations': [],\n",
              "   'model_annotations': []},\n",
              "  {'id': '11b0c85d-931b-4ea5-ae5a-a088ea1a602f',\n",
              "   'tag_id': '03eb3e50-d4d8-4261-a60b-fa5aee5deb4a',\n",
              "   'end': 775,\n",
              "   'start': 756,\n",
              "   'example_id': '5738535b-64dc-446f-a3c8-e38f06069d76',\n",
              "   'tag_name': 'Pathogen',\n",
              "   'value': 'bacterial pneumonia',\n",
              "   'correct': None,\n",
              "   'human_annotations': [{'timestamp': '2020-03-17T19:01:22.566000Z',\n",
              "     'annotator_id': 1,\n",
              "     'tagged_token_id': '11b0c85d-931b-4ea5-ae5a-a088ea1a602f',\n",
              "     'name': 'Ashpat123',\n",
              "     'reason': 'exploration'}],\n",
              "   'model_annotations': []},\n",
              "  {'id': '1866b62f-6fe1-4906-8e4e-687a9f3a8076',\n",
              "   'tag_id': '03eb3e50-d4d8-4261-a60b-fa5aee5deb4a',\n",
              "   'end': 476,\n",
              "   'start': 468,\n",
              "   'example_id': '5738535b-64dc-446f-a3c8-e38f06069d76',\n",
              "   'tag_name': 'MedicalCondition',\n",
              "   'value': 'vomiting',\n",
              "   'correct': None,\n",
              "   'human_annotations': [{'timestamp': '2020-03-17T19:00:31.275000Z',\n",
              "     'annotator_id': 1,\n",
              "     'tagged_token_id': '1866b62f-6fe1-4906-8e4e-687a9f3a8076',\n",
              "     'name': 'Ashpat123',\n",
              "     'reason': 'exploration'}],\n",
              "   'model_annotations': []},\n",
              "  {'id': '5ad4abbd-03e7-43e1-ac94-8e58c733e4ca',\n",
              "   'tag_id': '03eb3e50-d4d8-4261-a60b-fa5aee5deb4a',\n",
              "   'end': 235,\n",
              "   'start': 227,\n",
              "   'example_id': '5738535b-64dc-446f-a3c8-e38f06069d76',\n",
              "   'tag_name': 'MedicalCondition',\n",
              "   'value': 'headache',\n",
              "   'correct': None,\n",
              "   'human_annotations': [{'timestamp': '2020-03-17T18:59:58.394000Z',\n",
              "     'annotator_id': 1,\n",
              "     'tagged_token_id': '5ad4abbd-03e7-43e1-ac94-8e58c733e4ca',\n",
              "     'name': 'Ashpat123',\n",
              "     'reason': 'exploration'}],\n",
              "   'model_annotations': []},\n",
              "  {'id': '8beededf-1a5e-441b-86b3-9b691eb938ae',\n",
              "   'tag_id': '03eb3e50-d4d8-4261-a60b-fa5aee5deb4a',\n",
              "   'end': 851,\n",
              "   'start': 845,\n",
              "   'example_id': '5738535b-64dc-446f-a3c8-e38f06069d76',\n",
              "   'tag_name': 'MedicalCondition',\n",
              "   'value': 'asthma',\n",
              "   'correct': None,\n",
              "   'human_annotations': [{'timestamp': '2020-03-17T19:00:58.043000Z',\n",
              "     'annotator_id': 1,\n",
              "     'tagged_token_id': '8beededf-1a5e-441b-86b3-9b691eb938ae',\n",
              "     'name': 'Ashpat123',\n",
              "     'reason': 'exploration'}],\n",
              "   'model_annotations': []},\n",
              "  {'id': '93f7d8da-5c64-4c5e-b824-f8f14894d68a',\n",
              "   'tag_id': '03eb3e50-d4d8-4261-a60b-fa5aee5deb4a',\n",
              "   'end': 245,\n",
              "   'start': 237,\n",
              "   'example_id': '5738535b-64dc-446f-a3c8-e38f06069d76',\n",
              "   'tag_name': 'MedicalCondition',\n",
              "   'value': 'coughing',\n",
              "   'correct': None,\n",
              "   'human_annotations': [{'timestamp': '2020-03-17T19:00:03.106000Z',\n",
              "     'annotator_id': 1,\n",
              "     'tagged_token_id': '93f7d8da-5c64-4c5e-b824-f8f14894d68a',\n",
              "     'name': 'Ashpat123',\n",
              "     'reason': 'exploration'}],\n",
              "   'model_annotations': []},\n",
              "  {'id': 'ab4a596e-d703-46bd-8dcb-ef1118da8482',\n",
              "   'tag_id': '03eb3e50-d4d8-4261-a60b-fa5aee5deb4a',\n",
              "   'end': 793,\n",
              "   'start': 777,\n",
              "   'example_id': '5738535b-64dc-446f-a3c8-e38f06069d76',\n",
              "   'tag_name': 'MedicalCondition',\n",
              "   'value': 'sinus infections',\n",
              "   'correct': None,\n",
              "   'human_annotations': [{'timestamp': '2020-03-17T19:00:47.909000Z',\n",
              "     'annotator_id': 1,\n",
              "     'tagged_token_id': 'ab4a596e-d703-46bd-8dcb-ef1118da8482',\n",
              "     'name': 'Ashpat123',\n",
              "     'reason': 'exploration'}],\n",
              "   'model_annotations': []},\n",
              "  {'id': 'b8886dba-e948-4a3c-999d-c68756026a5e',\n",
              "   'tag_id': '03eb3e50-d4d8-4261-a60b-fa5aee5deb4a',\n",
              "   'end': 868,\n",
              "   'start': 855,\n",
              "   'example_id': '5738535b-64dc-446f-a3c8-e38f06069d76',\n",
              "   'tag_name': 'MedicalCondition',\n",
              "   'value': 'heart failure',\n",
              "   'correct': None,\n",
              "   'human_annotations': [{'timestamp': '2020-03-17T19:01:04.272000Z',\n",
              "     'annotator_id': 1,\n",
              "     'tagged_token_id': 'b8886dba-e948-4a3c-999d-c68756026a5e',\n",
              "     'name': 'Ashpat123',\n",
              "     'reason': 'exploration'}],\n",
              "   'model_annotations': []},\n",
              "  {'id': 'c8109996-5ee1-4846-880d-159594a71c30',\n",
              "   'tag_id': '03eb3e50-d4d8-4261-a60b-fa5aee5deb4a',\n",
              "   'end': 225,\n",
              "   'start': 215,\n",
              "   'example_id': '5738535b-64dc-446f-a3c8-e38f06069d76',\n",
              "   'tag_name': 'MedicalCondition',\n",
              "   'value': 'joint pain',\n",
              "   'correct': None,\n",
              "   'human_annotations': [{'timestamp': '2020-03-17T18:59:54.258000Z',\n",
              "     'annotator_id': 1,\n",
              "     'tagged_token_id': 'c8109996-5ee1-4846-880d-159594a71c30',\n",
              "     'name': 'Ashpat123',\n",
              "     'reason': 'exploration'}],\n",
              "   'model_annotations': []},\n",
              "  {'id': 'ce4cf299-e629-4319-8706-7e28d4e0f368',\n",
              "   'tag_id': '03eb3e50-d4d8-4261-a60b-fa5aee5deb4a',\n",
              "   'end': 663,\n",
              "   'start': 652,\n",
              "   'example_id': '5738535b-64dc-446f-a3c8-e38f06069d76',\n",
              "   'tag_name': 'MedicalCondition',\n",
              "   'value': 'stomach flu',\n",
              "   'correct': None,\n",
              "   'human_annotations': [{'timestamp': '2020-03-17T19:00:38.802000Z',\n",
              "     'annotator_id': 1,\n",
              "     'tagged_token_id': 'ce4cf299-e629-4319-8706-7e28d4e0f368',\n",
              "     'name': 'Ashpat123',\n",
              "     'reason': 'exploration'}],\n",
              "   'model_annotations': []},\n",
              "  {'id': 'd3c704d8-aa5a-4e90-ac8c-baa629a286a8',\n",
              "   'tag_id': '03eb3e50-d4d8-4261-a60b-fa5aee5deb4a',\n",
              "   'end': 464,\n",
              "   'start': 455,\n",
              "   'example_id': '5738535b-64dc-446f-a3c8-e38f06069d76',\n",
              "   'tag_name': 'MedicalCondition',\n",
              "   'value': 'diarrhea ',\n",
              "   'correct': None,\n",
              "   'human_annotations': [],\n",
              "   'model_annotations': []},\n",
              "  {'id': 'd606b7be-7881-4752-bd21-45c6470fd520',\n",
              "   'tag_id': '03eb3e50-d4d8-4261-a60b-fa5aee5deb4a',\n",
              "   'end': 264,\n",
              "   'start': 251,\n",
              "   'example_id': '5738535b-64dc-446f-a3c8-e38f06069d76',\n",
              "   'tag_name': 'MedicalCondition',\n",
              "   'value': 'feeling tired',\n",
              "   'correct': None,\n",
              "   'human_annotations': [{'timestamp': '2020-03-17T19:00:10.304000Z',\n",
              "     'annotator_id': 1,\n",
              "     'tagged_token_id': 'd606b7be-7881-4752-bd21-45c6470fd520',\n",
              "     'name': 'Ashpat123',\n",
              "     'reason': 'exploration'}],\n",
              "   'model_annotations': []},\n",
              "  {'id': 'deaea77c-ef9d-4d13-86f4-a74e01eaf272',\n",
              "   'tag_id': '03eb3e50-d4d8-4261-a60b-fa5aee5deb4a',\n",
              "   'end': 463,\n",
              "   'start': 455,\n",
              "   'example_id': '5738535b-64dc-446f-a3c8-e38f06069d76',\n",
              "   'tag_name': 'MedicalCondition',\n",
              "   'value': 'diarrhea',\n",
              "   'correct': None,\n",
              "   'human_annotations': [{'timestamp': '2020-03-17T19:00:22.897000Z',\n",
              "     'annotator_id': 1,\n",
              "     'tagged_token_id': 'deaea77c-ef9d-4d13-86f4-a74e01eaf272',\n",
              "     'name': 'Ashpat123',\n",
              "     'reason': 'exploration'}],\n",
              "   'model_annotations': []},\n",
              "  {'id': 'f2584220-deef-45ae-8827-1b38f294176a',\n",
              "   'tag_id': '2340864c-0876-4ad1-8a34-600324a516d1',\n",
              "   'end': 93,\n",
              "   'start': 78,\n",
              "   'example_id': '5738535b-64dc-446f-a3c8-e38f06069d76',\n",
              "   'tag_name': 'Pathogen',\n",
              "   'value': 'influenza virus',\n",
              "   'correct': None,\n",
              "   'human_annotations': [{'timestamp': '2020-03-17T18:59:33.665000Z',\n",
              "     'annotator_id': 1,\n",
              "     'tagged_token_id': 'f2584220-deef-45ae-8827-1b38f294176a',\n",
              "     'name': 'Ashpat123',\n",
              "     'reason': 'exploration'}],\n",
              "   'model_annotations': []}],\n",
              " 'classifications': []}"
            ]
          },
          "metadata": {},
          "execution_count": 41
        }
      ],
      "source": [
        "data['examples'][30]"
      ]
    },
    {
      "cell_type": "code",
      "execution_count": null,
      "metadata": {
        "colab": {
          "base_uri": "https://localhost:8080/",
          "height": 226
        },
        "id": "FQlSQDokAdRV",
        "outputId": "422ee24f-5e25-4b5d-ccbc-ab8b23830766"
      },
      "outputs": [
        {
          "output_type": "execute_result",
          "data": {
            "text/plain": [
              "\"While bismuth compounds (Pepto-Bismol) decreased the number of bowel movements in those with travelers' diarrhea, they do not decrease the length of illness.[91] Anti-motility agents like loperamide are also effective at reducing the number of stools but not the duration of disease.[8] These agents should be used only if bloody diarrhea is not present.[92]\\n\\nDiosmectite, a natural aluminomagnesium silicate clay, is effective in alleviating symptoms of acute diarrhea in children,[93] and also has some effects in chronic functional diarrhea, radiation-induced diarrhea, and chemotherapy-induced diarrhea.[45] Another absorbent agent used for the treatment of mild diarrhea is kaopectate.\\n\\nRacecadotril an antisecretory medication may be used to treat diarrhea in children and adults.[86] It has better tolerability than loperamide, as it causes less constipation and flatulence.[94]\""
            ],
            "application/vnd.google.colaboratory.intrinsic+json": {
              "type": "string"
            }
          },
          "metadata": {},
          "execution_count": 42
        }
      ],
      "source": [
        "data['examples'][0]['content']"
      ]
    },
    {
      "cell_type": "code",
      "execution_count": null,
      "metadata": {
        "colab": {
          "base_uri": "https://localhost:8080/"
        },
        "id": "0aIyZ4lNDVRn",
        "outputId": "534ed305-4f07-4e1f-f907-57322ccf6799"
      },
      "outputs": [
        {
          "output_type": "execute_result",
          "data": {
            "text/plain": [
              "{'id': '0825a1bf-6a6e-4fa2-be77-8d104701eaed',\n",
              " 'tag_id': 'c06bd022-6ded-44a5-8d90-f17685bb85a1',\n",
              " 'end': 371,\n",
              " 'start': 360,\n",
              " 'example_id': '18c2f619-f102-452f-ab81-d26f7e283ffe',\n",
              " 'tag_name': 'Medicine',\n",
              " 'value': 'Diosmectite',\n",
              " 'correct': None,\n",
              " 'human_annotations': [{'timestamp': '2020-03-21T00:24:32.098000Z',\n",
              "   'annotator_id': 1,\n",
              "   'tagged_token_id': '0825a1bf-6a6e-4fa2-be77-8d104701eaed',\n",
              "   'name': 'Ashpat123',\n",
              "   'reason': 'exploration'}],\n",
              " 'model_annotations': []}"
            ]
          },
          "metadata": {},
          "execution_count": 43
        }
      ],
      "source": [
        "data['examples'][0]['annotations'][0]"
      ]
    },
    {
      "cell_type": "code",
      "execution_count": null,
      "metadata": {
        "colab": {
          "base_uri": "https://localhost:8080/"
        },
        "id": "pPB2blXYDX9l",
        "outputId": "b99a54e2-be81-4e94-e20a-98330ee7164a"
      },
      "outputs": [
        {
          "output_type": "stream",
          "name": "stdout",
          "text": [
            "{'text': \"While bismuth compounds (Pepto-Bismol) decreased the number of bowel movements in those with travelers' diarrhea, they do not decrease the length of illness.[91] Anti-motility agents like loperamide are also effective at reducing the number of stools but not the duration of disease.[8] These agents should be used only if bloody diarrhea is not present.[92]\\n\\nDiosmectite, a natural aluminomagnesium silicate clay, is effective in alleviating symptoms of acute diarrhea in children,[93] and also has some effects in chronic functional diarrhea, radiation-induced diarrhea, and chemotherapy-induced diarrhea.[45] Another absorbent agent used for the treatment of mild diarrhea is kaopectate.\\n\\nRacecadotril an antisecretory medication may be used to treat diarrhea in children and adults.[86] It has better tolerability than loperamide, as it causes less constipation and flatulence.[94]\", 'entities': [(360, 371, 'MEDICINE'), (383, 408, 'MEDICINE'), (104, 112, 'MEDICALCONDITION'), (679, 689, 'MEDICINE'), (6, 23, 'MEDICINE'), (25, 37, 'MEDICINE'), (461, 470, 'MEDICALCONDITION'), (577, 589, 'MEDICINE'), (853, 865, 'MEDICALCONDITION'), (188, 198, 'MEDICINE'), (754, 762, 'MEDICALCONDITION'), (870, 880, 'MEDICALCONDITION'), (823, 833, 'MEDICINE'), (852, 853, 'MEDICALCONDITION'), (461, 469, 'MEDICALCONDITION'), (535, 543, 'MEDICALCONDITION'), (692, 704, 'MEDICINE'), (563, 571, 'MEDICALCONDITION')]}\n"
          ]
        }
      ],
      "source": [
        "training_data = []\n",
        "for example in data['examples']:\n",
        "  temp_dict = {}\n",
        "  temp_dict['text'] = example['content']\n",
        "  temp_dict['entities'] = []\n",
        "  for annotation in example['annotations']:\n",
        "    start = annotation['start']\n",
        "    end = annotation['end']\n",
        "    label = annotation['tag_name'].upper()\n",
        "    temp_dict['entities'].append((start, end, label))\n",
        "  training_data.append(temp_dict)\n",
        "\n",
        "print(training_data[0])"
      ]
    },
    {
      "cell_type": "code",
      "execution_count": null,
      "metadata": {
        "colab": {
          "base_uri": "https://localhost:8080/",
          "height": 226
        },
        "id": "D5JPjdspDc7e",
        "outputId": "bb46eba9-421d-4430-e94c-f01499af7fe1"
      },
      "outputs": [
        {
          "output_type": "execute_result",
          "data": {
            "text/plain": [
              "\"While bismuth compounds (Pepto-Bismol) decreased the number of bowel movements in those with travelers' diarrhea, they do not decrease the length of illness.[91] Anti-motility agents like loperamide are also effective at reducing the number of stools but not the duration of disease.[8] These agents should be used only if bloody diarrhea is not present.[92]\\n\\nDiosmectite, a natural aluminomagnesium silicate clay, is effective in alleviating symptoms of acute diarrhea in children,[93] and also has some effects in chronic functional diarrhea, radiation-induced diarrhea, and chemotherapy-induced diarrhea.[45] Another absorbent agent used for the treatment of mild diarrhea is kaopectate.\\n\\nRacecadotril an antisecretory medication may be used to treat diarrhea in children and adults.[86] It has better tolerability than loperamide, as it causes less constipation and flatulence.[94]\""
            ],
            "application/vnd.google.colaboratory.intrinsic+json": {
              "type": "string"
            }
          },
          "metadata": {},
          "execution_count": 45
        }
      ],
      "source": [
        "training_data[0]['text']"
      ]
    },
    {
      "cell_type": "code",
      "execution_count": null,
      "metadata": {
        "colab": {
          "base_uri": "https://localhost:8080/"
        },
        "id": "E_KAGbLvDd4j",
        "outputId": "2fdf2045-dd7e-4cbf-fae7-bba0cece7d0a"
      },
      "outputs": [
        {
          "output_type": "execute_result",
          "data": {
            "text/plain": [
              "[(360, 371, 'MEDICINE'),\n",
              " (383, 408, 'MEDICINE'),\n",
              " (104, 112, 'MEDICALCONDITION'),\n",
              " (679, 689, 'MEDICINE'),\n",
              " (6, 23, 'MEDICINE'),\n",
              " (25, 37, 'MEDICINE'),\n",
              " (461, 470, 'MEDICALCONDITION'),\n",
              " (577, 589, 'MEDICINE'),\n",
              " (853, 865, 'MEDICALCONDITION'),\n",
              " (188, 198, 'MEDICINE'),\n",
              " (754, 762, 'MEDICALCONDITION'),\n",
              " (870, 880, 'MEDICALCONDITION'),\n",
              " (823, 833, 'MEDICINE'),\n",
              " (852, 853, 'MEDICALCONDITION'),\n",
              " (461, 469, 'MEDICALCONDITION'),\n",
              " (535, 543, 'MEDICALCONDITION'),\n",
              " (692, 704, 'MEDICINE'),\n",
              " (563, 571, 'MEDICALCONDITION')]"
            ]
          },
          "metadata": {},
          "execution_count": 46
        }
      ],
      "source": [
        "training_data[0]['entities']"
      ]
    },
    {
      "cell_type": "code",
      "execution_count": null,
      "metadata": {
        "colab": {
          "base_uri": "https://localhost:8080/",
          "height": 35
        },
        "id": "Jx709PUKDd8N",
        "outputId": "08d128dd-3559-4128-baad-4562e8965681"
      },
      "outputs": [
        {
          "output_type": "execute_result",
          "data": {
            "text/plain": [
              "'Diosmectite'"
            ],
            "application/vnd.google.colaboratory.intrinsic+json": {
              "type": "string"
            }
          },
          "metadata": {},
          "execution_count": 47
        }
      ],
      "source": [
        "training_data[0]['text'][360:371]"
      ]
    },
    {
      "cell_type": "code",
      "execution_count": null,
      "metadata": {
        "id": "5BQDz3ErDd9k"
      },
      "outputs": [],
      "source": [
        "from spacy.tokens import DocBin\n",
        "from tqdm import tqdm\n",
        "\n",
        "nlp = spacy.blank(\"en\") # load a new spacy model\n",
        "doc_bin = DocBin()"
      ]
    },
    {
      "cell_type": "code",
      "execution_count": null,
      "metadata": {
        "colab": {
          "base_uri": "https://localhost:8080/"
        },
        "id": "-W0BDjJSDd_6",
        "outputId": "1076309a-a203-44ac-e1a9-c71d5377ee1b"
      },
      "outputs": [
        {
          "output_type": "stream",
          "name": "stderr",
          "text": [
            "100%|██████████| 31/31 [00:00<00:00, 148.46it/s]"
          ]
        },
        {
          "output_type": "stream",
          "name": "stdout",
          "text": [
            "Diosmectite\n",
            "aluminomagnesium silicate\n",
            "diarrhea\n",
            "kaopectate\n",
            "bismuth compounds\n",
            "Pepto-Bismol\n",
            "diarrhea\n",
            "chemotherapy\n",
            "constipation\n",
            "loperamide\n",
            "diarrhea\n",
            "None\n",
            "loperamide\n",
            "None\n",
            "diarrhea\n",
            "diarrhea\n",
            "Racecadotril\n",
            "diarrhea\n",
            "loss of skin color\n",
            "Diarrhea\n",
            "watery bowel movements\n",
            "dehydration\n",
            "dehydration\n",
            "diarrhoea\n",
            "decrease in responsiveness\n",
            "fast heart rate\n",
            "Antiretroviral therapy\n",
            "ART\n",
            "ART\n",
            "HIV\n",
            "HIV\n",
            "ART\n",
            "HIV\n",
            "] A combined approach with methotrexate and biologics improves ACR50, HAQ scores and RA remission rates.[94] Triple therapy consisting of methotrexate, sulfasalazine and hydroxychloroquine may also effectively control disease activity.[95] Adverse effects should be monitored regularly with toxicity including gastrointestinal, hematologic, pulmonary, and hepatic.[93]\n",
            "DMARDs\n",
            "Hydroxychloroquine\n",
            "cyclosporin\n",
            "None\n",
            "] A combined approach with methotrexate and biologics improves ACR50, HAQ scores and RA remission rates.[94] Triple therapy consisting of methotrexate, sulfasalazine and hydroxychloroquine may also effectively control disease activity.[95] Adverse effects should be monitored regularly with toxicity including gastrointestinal, hematologic, pulmonary, and hepatic.[93]\n",
            "None\n",
            "hydroxychloroquine\n",
            "Sulfasalazine\n",
            "monoclonal antibodies\n",
            "methotrexate\n",
            "Rituximab\n",
            "sulfasalazine\n",
            "cyclosporin\n",
            "etanercept\n",
            "certolizumab\n",
            "None\n",
            "sulfasalazine\n",
            "TNF-alpha inhibitors\n",
            "folic\n",
            "sulfasalazine, leflunomide\n",
            "nausea\n",
            "RA\n",
            "rheumatoid\n",
            "Leflunomide\n",
            "methotrexate\n",
            "Sodium aurothiomalate\n",
            "Methotrexate\n",
            "abdominal pain\n",
            "None\n",
            "methotrexate\n",
            "vomiting\n",
            "methotrexate\n",
            "infliximab\n",
            "hydroxychloroquine\n",
            ", leflunomide\n",
            "tocilizumab\n",
            "tocilizumab\n",
            "methotrexate\n",
            "hydroxychloroquine\n",
            "Biological DMARDs\n",
            "steroids\n",
            "Hantaviruses\n",
            "Bunyaviridae\n",
            "Magboi virus\n",
            "Mouyassué virus\n",
            "rabies\n",
            "rabies\n",
            "None\n",
            "rabies virus\n",
            "Rabies virus\n",
            "dies\n",
            "rabies\n",
            "Bites\n",
            "severe acute respiratory syndrome\n",
            "coronavirus\n",
            "SARS\n",
            "None\n",
            "coronavirus\n",
            "SARS coronavirus\n",
            "SARS\n",
            "SARS-CoV\n",
            "candidiasis\n",
            "Bacterial vaginosis\n",
            "skin infection\n",
            "bacteria\n",
            "cystitis\n",
            "blisters\n",
            "Cellulitis\n",
            "pain during urination\n",
            "vaginal infections\n",
            "Erysipelas\n",
            "Staphylococcus aureus\n",
            "Bacterial gastroenteritis\n",
            "surgical wounds\n",
            "Streptococcus\n",
            "None\n",
            "bacterial inflammation\n",
            "Bacterial pneumonia\n",
            "yeast infection\n",
            "inflammation\n",
            "nephritis\n",
            "cracks in the skin\n",
            "intravenous drug injection\n",
            "None\n",
            "animal bites\n",
            "bacteria\n",
            "intravenous catheter insertion\n",
            "Cellulitis\n",
            "inflammation\n",
            "Lactobacilli\n",
            "Bacterial meningitis\n",
            "Escherichia\n",
            "Trichomonas vaginalis\n",
            "Escherichia coli\n",
            "Listeria\n",
            "Yersinia pestis\n",
            "Francisella\n",
            "Neisseria\n",
            "Legionella\n",
            "Nocardia\n",
            "Mycobacterium\n",
            "Brucella\n",
            "Salmonella\n",
            "Streptococcus\n",
            "tetanus\n",
            "tetanus,\n",
            "Campylobacter,\n",
            "Salmonella\n",
            "pneumonia\n",
            "typhoid fever\n",
            "leprosy\n",
            "Campylobacter\n",
            "diphtheria\n",
            "Pseudomonas\n",
            "tuberculosis\n",
            "syphilis\n",
            "fever\n",
            "Mycobacterium tuberculosis\n",
            "Shigella\n",
            "syphilis\n",
            "Streptococcus\n",
            "Hansen's disease\n",
            "bacteria\n",
            "Pseudomonas\n",
            "diphtheria\n",
            "pathogenic bacteria\n",
            "None\n",
            "Shigella\n",
            "bacteria\n",
            "Salmonella\n",
            "tetanus\n",
            "foodborne illnesses\n",
            "typhoid fever\n",
            "Campylobacter\n",
            ", syphilis\n",
            "amoxicillin\n",
            "anthrax vaccine\n",
            "doxycycline\n",
            "ciprofloxacin\n",
            "pneumococcal vaccine\n",
            "protozoan\n",
            "infectious microorganism\n",
            "fungus\n",
            "bacterium\n",
            "virus\n",
            "fluvoxamine\n",
            "social anxiety\n",
            "sertraline\n",
            "social anxiety disorder\n",
            "MAOIs\n",
            "fluvoxamine\n",
            "venlafaxine\n",
            "imipramine\n",
            "social anxiety disorder\n",
            "fluoxetine\n",
            "paroxetine\n",
            "anxiety disorder\n",
            "Sertraline\n",
            "Phenelzine\n",
            "clomipramine\n",
            "None\n",
            "phobia\n",
            "None\n",
            "None\n",
            "escitalopram\n",
            "Moclobemide\n",
            "social phobia\n",
            "TB therapy\n",
            "bedaquiline\n",
            "bedaquiline\n",
            "None\n",
            "isoniazid\n",
            "rifampin\n",
            "isoniazid\n",
            "isoniazid\n",
            "rifampicin\n",
            "extensive scarring\n",
            "chest pain\n",
            "prolonged cough\n",
            "cough up blood\n",
            "massive\n",
            "HIV\n",
            "HIV\n",
            "extrapulmonary\n",
            "miliary\n",
            "extrapulmonary infection\n",
            "tuberculous meningitis\n",
            "chickenpox\n",
            "shingles\n",
            "varicella zoster virus\n",
            "Epstein–Barr virus\n",
            "Yersinia\n",
            "herpes simplex virus\n",
            "chickenpox\n",
            "multiple sclerosis\n",
            "Ebola virus\n",
            "psychiatric illnesses\n",
            "herpesvirus 6\n",
            "influenza\n",
            "chickenpox\n",
            "avian influenza\n",
            "bornavirus\n",
            "Parkinson's\n",
            "adamantane\n",
            "None\n",
            "saxagliptin\n",
            "dopamantine\n",
            "carmantadine\n",
            "amantadine\n",
            "Buprenorphine\n",
            "refractory depression\n",
            "Buprenorphine\n",
            "neuropathic pain syndromes\n",
            "restless leg\n",
            "migraine prophylaxis\n",
            "postherpetic neuralgia\n",
            "Gabapentin\n",
            "seizures\n",
            "Zyban\n",
            "Wellbutrin\n",
            "Wellbutrin\n",
            "Wellbutrin\n",
            "Wellbutrin\n",
            "Zyban\n",
            "Bupropion\n",
            "post-traumatic stress\n",
            "neuromyotonia\n",
            "Carbamazepine\n",
            "bipolar disorder\n",
            "hyperactivity disorder\n",
            "Carbamazepine\n",
            "schizophrenia\n",
            "epileptic seizures\n",
            "phantom limb syndrome\n",
            "influenza\n",
            "rimantadine\n",
            "M2 inhibitors\n",
            "amantadine\n",
            "peramivir\n",
            "influenza\n",
            "zanamivir\n",
            "laninamivir\n",
            "laninamivir\n",
            "influenza\n",
            "oseltamivir\n",
            "sore throat\n",
            "Influenza\n",
            "asthma\n",
            "bacterial pneumonia\n",
            "vomiting\n",
            "headache\n",
            "asthma\n",
            "coughing\n",
            "sinus infections\n",
            "heart\n",
            "joint pain\n",
            "stomach flu\n",
            "diarrhea\n",
            "feeling\n",
            "diarrhea\n",
            "influenza\n"
          ]
        },
        {
          "output_type": "stream",
          "name": "stderr",
          "text": [
            "\n"
          ]
        }
      ],
      "source": [
        "from spacy.util import filter_spans\n",
        "\n",
        "for training_example  in tqdm(training_data):\n",
        "    text = training_example['text']\n",
        "    labels = training_example['entities']\n",
        "    doc = nlp.make_doc(text)\n",
        "    ents = []\n",
        "    for start, end, label in labels:\n",
        "        span = doc.char_span(start, end, label=label, alignment_mode=\"contract\")\n",
        "        if span is None:\n",
        "            print(span)\n",
        "            # print(\"Skipping entity\")\n",
        "        else:\n",
        "            ents.append(span)\n",
        "            print(span)\n",
        "    filtered_ents = filter_spans(ents)\n",
        "    doc.ents = filtered_ents\n",
        "    doc_bin.add(doc)\n",
        "\n",
        "doc_bin.to_disk(\"train.spacy\")"
      ]
    },
    {
      "cell_type": "code",
      "execution_count": null,
      "metadata": {
        "colab": {
          "base_uri": "https://localhost:8080/"
        },
        "id": "SAmbMOd4DeEt",
        "outputId": "0100bb92-532c-4dea-ca84-02e342f1492a"
      },
      "outputs": [
        {
          "output_type": "stream",
          "name": "stdout",
          "text": [
            "2023-10-30 12:33:42.776413: E tensorflow/compiler/xla/stream_executor/cuda/cuda_dnn.cc:9342] Unable to register cuDNN factory: Attempting to register factory for plugin cuDNN when one has already been registered\n",
            "2023-10-30 12:33:42.776487: E tensorflow/compiler/xla/stream_executor/cuda/cuda_fft.cc:609] Unable to register cuFFT factory: Attempting to register factory for plugin cuFFT when one has already been registered\n",
            "2023-10-30 12:33:42.776522: E tensorflow/compiler/xla/stream_executor/cuda/cuda_blas.cc:1518] Unable to register cuBLAS factory: Attempting to register factory for plugin cuBLAS when one has already been registered\n",
            "2023-10-30 12:33:44.261112: W tensorflow/compiler/tf2tensorrt/utils/py_utils.cc:38] TF-TRT Warning: Could not find TensorRT\n",
            "\u001b[38;5;2m✔ Auto-filled config with all values\u001b[0m\n",
            "\u001b[38;5;2m✔ Saved config\u001b[0m\n",
            "config.cfg\n",
            "You can now add your data and train your pipeline:\n",
            "python -m spacy train config.cfg --paths.train ./train.spacy --paths.dev ./dev.spacy\n"
          ]
        }
      ],
      "source": [
        "!python -m spacy init fill-config /content/drive/MyDrive/Medical_Ner/base_config.cfg config.cfg"
      ]
    },
    {
      "cell_type": "code",
      "execution_count": null,
      "metadata": {
        "id": "41-zfZKQQguu"
      },
      "outputs": [],
      "source": [
        "# https://spacy.io/usage/training#quickstart"
      ]
    },
    {
      "cell_type": "code",
      "execution_count": null,
      "metadata": {
        "colab": {
          "base_uri": "https://localhost:8080/"
        },
        "id": "d6ekyPmcDeHU",
        "outputId": "f3069438-f810-45e0-a56c-40e24fad827f"
      },
      "outputs": [
        {
          "output_type": "stream",
          "name": "stdout",
          "text": [
            "2023-10-30 13:28:51.475967: E tensorflow/compiler/xla/stream_executor/cuda/cuda_dnn.cc:9342] Unable to register cuDNN factory: Attempting to register factory for plugin cuDNN when one has already been registered\n",
            "2023-10-30 13:28:51.476036: E tensorflow/compiler/xla/stream_executor/cuda/cuda_fft.cc:609] Unable to register cuFFT factory: Attempting to register factory for plugin cuFFT when one has already been registered\n",
            "2023-10-30 13:28:51.476086: E tensorflow/compiler/xla/stream_executor/cuda/cuda_blas.cc:1518] Unable to register cuBLAS factory: Attempting to register factory for plugin cuBLAS when one has already been registered\n",
            "2023-10-30 13:28:53.124030: W tensorflow/compiler/tf2tensorrt/utils/py_utils.cc:38] TF-TRT Warning: Could not find TensorRT\n",
            "\u001b[38;5;4mℹ Saving to output directory: .\u001b[0m\n",
            "\u001b[38;5;4mℹ Using CPU\u001b[0m\n",
            "\u001b[1m\n",
            "=========================== Initializing pipeline ===========================\u001b[0m\n",
            "\u001b[38;5;2m✔ Initialized pipeline\u001b[0m\n",
            "\u001b[1m\n",
            "============================= Training pipeline =============================\u001b[0m\n",
            "\u001b[38;5;4mℹ Pipeline: ['tok2vec', 'ner']\u001b[0m\n",
            "\u001b[38;5;4mℹ Initial learn rate: 0.001\u001b[0m\n",
            "E    #       LOSS TOK2VEC  LOSS NER  ENTS_F  ENTS_P  ENTS_R  SCORE \n",
            "---  ------  ------------  --------  ------  ------  ------  ------\n",
            "  0       0          0.00    153.29    0.55    0.91    0.39    0.01\n",
            "  7     200        499.25   3640.10   70.00   82.80   60.63    0.70\n",
            "\u001b[38;5;2m✔ Saved pipeline to output directory\u001b[0m\n",
            "model-last\n"
          ]
        }
      ],
      "source": [
        "!python -m spacy train config.cfg --output ./ --paths.train ./train.spacy --paths.dev ./train.spacy"
      ]
    },
    {
      "cell_type": "code",
      "execution_count": null,
      "metadata": {
        "id": "5AnWM3FnDeJ-"
      },
      "outputs": [],
      "source": [
        "nlp_ner = spacy.load(\"model-best\")"
      ]
    },
    {
      "cell_type": "code",
      "source": [
        "import pickle\n",
        "\n",
        "nlp_ner = spacy.load(\"model-best\")\n",
        "# Saving the model to a Pickle file\n",
        "with open('/content/drive/MyDrive/Medical_Ner/Medical_ner_model.pkl', 'wb') as file:\n",
        "    pickle.dump(nlp_ner, file)\n"
      ],
      "metadata": {
        "id": "tUXo8Isflxh1"
      },
      "execution_count": null,
      "outputs": []
    },
    {
      "cell_type": "code",
      "execution_count": null,
      "metadata": {
        "id": "z_TFhjDcQ4Oo",
        "colab": {
          "base_uri": "https://localhost:8080/",
          "height": 157
        },
        "outputId": "877684ee-bb66-4b70-b7da-cf1dfd3e2186"
      },
      "outputs": [
        {
          "output_type": "display_data",
          "data": {
            "text/plain": [
              "<IPython.core.display.HTML object>"
            ],
            "text/html": [
              "<span class=\"tex2jax_ignore\"><div class=\"entities\" style=\"line-height: 2.5; direction: ltr\">While bismuth compounds (\n",
              "<mark class=\"entity\" style=\"background: #7DF6D9; padding: 0.45em 0.6em; margin: 0 0.25em; line-height: 1; border-radius: 0.35em;\">\n",
              "    Pepto\n",
              "    <span style=\"font-size: 0.8em; font-weight: bold; line-height: 1; border-radius: 0.35em; vertical-align: middle; margin-left: 0.5rem\">MEDICINE</span>\n",
              "</mark>\n",
              "-Bismol) decreased the number of bowel movements in those with travelers' diarrhea, they do not decrease the length of illness.[91] Anti-motility agents like loperamide are also effective at reducing the number of stools but not the duration of disease.[8] These agents should be used only if bloody diarrhea is not present.</div></span>"
            ]
          },
          "metadata": {}
        }
      ],
      "source": [
        "doc = nlp_ner(\"While bismuth compounds (Pepto-Bismol) decreased the number of bowel movements in those with travelers' diarrhea, they do not decrease the length of illness.[91] Anti-motility agents like loperamide are also effective at reducing the number of stools but not the duration of disease.[8] These agents should be used only if bloody diarrhea is not present.\")\n",
        "\n",
        "colors = {\"PATHOGEN\": \"#F67DE3\", \"MEDICINE\": \"#7DF6D9\", \"MEDICALCONDITION\":\"#a6e22d\"}\n",
        "options = {\"colors\": colors}\n",
        "\n",
        "spacy.displacy.render(doc, style=\"ent\", options= options, jupyter=True)"
      ]
    },
    {
      "cell_type": "code",
      "source": [
        "doc=(\"\")"
      ],
      "metadata": {
        "id": "HnyNJBcyyC92"
      },
      "execution_count": null,
      "outputs": []
    },
    {
      "cell_type": "code",
      "source": [
        "doc = nlp_ner(\"While bismuth compounds (Pepto-Bismol) decreased the number of bowel movements in those with travelers' diarrhea, they do not decrease the length of illness.[91] Anti-motility agents like loperamide are also effective at reducing the number of stools but not the duration of disease.[8] These agents should be used only if bloody diarrhea is not present.\")\n",
        "\n",
        "colors = {\"PATHOGEN\": \"#F67DE3\", \"MEDICINE\": \"#7DF6D9\", \"MEDICALCONDITION\":\"#a6e22d\"}\n",
        "options = {\"colors\": colors}\n",
        "\n",
        "spacy.displacy.render(doc, style=\"ent\", options= options, jupyter=True)"
      ],
      "metadata": {
        "id": "_T1U4v3umG2A"
      },
      "execution_count": null,
      "outputs": []
    },
    {
      "cell_type": "code",
      "source": [],
      "metadata": {
        "id": "lf-Y9mEmEZ0f"
      },
      "execution_count": null,
      "outputs": []
    },
    {
      "cell_type": "code",
      "source": [
        "from flask import Flask, request, jsonify\n",
        "import spacy\n",
        "from spacy import displacy\n",
        "\n",
        "app = Flask(__name__)\n",
        "\n",
        "# Load the spaCy model\n",
        "nlp_ner = spacy.load(\"your_model_name\")  # Replace with the name of your NER model\n",
        "\n",
        "@app.route('/ner', methods=['POST'])\n",
        "def ner():\n",
        "    # Get the text from the request\n",
        "    text = request.json.get('text')\n",
        "\n",
        "    # Perform NER using the loaded spaCy model\n",
        "    doc = nlp_ner(text)\n",
        "\n",
        "    # Define entity colors\n",
        "    colors = {\"PATHOGEN\": \"#F67DE3\", \"MEDICINE\": \"#7DF6D9\", \"MEDICALCONDITION\": \"#a6e22d\"}\n",
        "    options = {\"colors\": colors}\n",
        "\n",
        "    # Render NER entities with colors and return the HTML\n",
        "    html = displacy.render(doc, style=\"ent\", options=options, page=True)\n",
        "\n",
        "    return jsonify({\"html\": html})\n",
        "\n",
        "if __name__ == '__main__':\n",
        "    app.run(debug=True)\n"
      ],
      "metadata": {
        "id": "FE7bdFZFEZ3d"
      },
      "execution_count": null,
      "outputs": []
    },
    {
      "cell_type": "code",
      "source": [
        "import requests\n",
        "\n",
        "url = 'http://127.0.0.1:5000/ner'  # Replace with the actual API endpoint\n",
        "\n",
        "data = {'text': \"While bismuth compounds (Pepto-Bismol) decreased the number of bowel movements in those with travelers' diarrhea, they do not decrease the length of illness.[91] Anti-motility agents like loperamide are also effective at reducing the number of stools but not the duration of disease.[8] These agents should be used only if bloody diarrhea is not present.\"}\n",
        "\n",
        "response = requests.post(url, json=data)\n",
        "\n",
        "if response.status_code == 200:\n",
        "    html = response.json().get('html')\n",
        "    # You can render or display the HTML as needed\n",
        "else:\n",
        "    print(f\"Error: {response.status_code}\")\n"
      ],
      "metadata": {
        "id": "9p27j7-PEZ8c"
      },
      "execution_count": null,
      "outputs": []
    },
    {
      "cell_type": "code",
      "source": [],
      "metadata": {
        "id": "H2x1hsPKEaAY"
      },
      "execution_count": null,
      "outputs": []
    },
    {
      "cell_type": "code",
      "source": [],
      "metadata": {
        "id": "ejy0gG3OEaDG"
      },
      "execution_count": null,
      "outputs": []
    }
  ],
  "metadata": {
    "colab": {
      "provenance": []
    },
    "kernelspec": {
      "display_name": "Python 3",
      "name": "python3"
    },
    "language_info": {
      "name": "python"
    }
  },
  "nbformat": 4,
  "nbformat_minor": 0
}